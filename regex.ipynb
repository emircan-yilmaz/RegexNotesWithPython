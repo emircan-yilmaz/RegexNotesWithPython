{
 "cells": [
  {
   "cell_type": "code",
   "execution_count": 2,
   "metadata": {},
   "outputs": [],
   "source": [
    "import re"
   ]
  },
  {
   "cell_type": "markdown",
   "metadata": {},
   "source": [
    "### \\d for digit"
   ]
  },
  {
   "cell_type": "code",
   "execution_count": 3,
   "metadata": {},
   "outputs": [
    {
     "name": "stdout",
     "output_type": "stream",
     "text": [
      "Phone number found: 415-555-4242\n",
      "('415', '545-4342')\n"
     ]
    }
   ],
   "source": [
    "phone_number = re.compile(r\"\\d\\d\\d-\\d\\d\\d-\\d\\d\\d\\d\")\n",
    "mo = phone_number.search(\"My num 415-555-4242\")\n",
    "print(\"Phone number found: \" + mo.group() if mo else \"No phone number\")\n",
    "phone_number_group= re.compile(r\"(\\d\\d\\d)-(\\d\\d\\d-\\d\\d\\d\\d)\")\n",
    "mo2 = phone_number_group.search(\"My num 2 415-545-4342\")\n",
    "print(mo2.groups())"
   ]
  },
  {
   "cell_type": "markdown",
   "metadata": {},
   "source": [
    "### | for \"or\""
   ]
  },
  {
   "cell_type": "code",
   "execution_count": 4,
   "metadata": {},
   "outputs": [
    {
     "name": "stdout",
     "output_type": "stream",
     "text": [
      "Batman\n",
      "Robin\n",
      "Batmobile mobile\n"
     ]
    }
   ],
   "source": [
    "heroRegex = re.compile(r\"Batman|Robin\")\n",
    "mo = heroRegex.search(\"Batman and Robin\")\n",
    "print(mo.group())\n",
    "mo2 = heroRegex.search(\"Robin and Batman\") # findall() can be used\n",
    "print(mo2.group())\n",
    "\n",
    "batRegex = re.compile(r\"Bat(man|mobile|copter|bat)\")\n",
    "mo3 = batRegex.search(\"Batmobile to the rescue\")\n",
    "print(mo3.group(), mo3.group(1))\n"
   ]
  },
  {
   "cell_type": "markdown",
   "metadata": {},
   "source": [
    "### ? for optional\n"
   ]
  },
  {
   "cell_type": "code",
   "execution_count": 5,
   "metadata": {},
   "outputs": [
    {
     "name": "stdout",
     "output_type": "stream",
     "text": [
      "Batman\n",
      "Batwoman\n"
     ]
    }
   ],
   "source": [
    "batRegex = re.compile(r\"Bat(wo)?man\")\n",
    "mo = batRegex.search(\"Adventures of Batman\")\n",
    "print(mo.group())\n",
    "mo2 = batRegex.search(\"Gameplay with Batwoman\")\n",
    "print(mo2.group())"
   ]
  },
  {
   "cell_type": "markdown",
   "metadata": {},
   "source": [
    "### matching zero or more with the star"
   ]
  },
  {
   "cell_type": "code",
   "execution_count": 6,
   "metadata": {},
   "outputs": [
    {
     "name": "stdout",
     "output_type": "stream",
     "text": [
      "Batman\n",
      "Batwoman\n",
      "Batwowoman\n"
     ]
    }
   ],
   "source": [
    "batRegex = re.compile(r\"Bat(wo)*man\")\n",
    "mo = batRegex.search(\"adventures of Batman\")\n",
    "mo2 = batRegex.search(\"Adventures of Batwoman\")\n",
    "mo3 = batRegex.search(\"Adventures of Batwowoman\")\n",
    "print(mo.group())\n",
    "print(mo2.group())\n",
    "print(mo3.group())"
   ]
  },
  {
   "cell_type": "markdown",
   "metadata": {},
   "source": [
    "### matching one or more with the plus"
   ]
  },
  {
   "cell_type": "code",
   "execution_count": 7,
   "metadata": {},
   "outputs": [
    {
     "name": "stdout",
     "output_type": "stream",
     "text": [
      "Batwoman\n",
      "True\n"
     ]
    }
   ],
   "source": [
    "batRegex = re.compile(r\"Bat(wo)+man\")\n",
    "mo = batRegex.search(\"animated series of Batwoman\")\n",
    "print(mo.group())\n",
    "mo2 = batRegex.search(\"batman animated series\")\n",
    "print(mo2 == None)"
   ]
  },
  {
   "cell_type": "markdown",
   "metadata": {},
   "source": [
    "### Matching Specific Repetitions with Braces"
   ]
  },
  {
   "cell_type": "code",
   "execution_count": 8,
   "metadata": {},
   "outputs": [
    {
     "name": "stdout",
     "output_type": "stream",
     "text": [
      "HaHaHa\n",
      "HaHaHaHa\n"
     ]
    }
   ],
   "source": [
    "haregex = re.compile(r\"(Ha){3}\")\n",
    "mo = haregex.search(\"asfasdHaHaHabcgdsgs\")\n",
    "print(mo.group())\n",
    "haregex = re.compile(r\"(Ha){3,5}\")\n",
    "mo2 = haregex.search(\"asfasdHaHaHaHabcgdsgs\")\n",
    "print(mo2.group())"
   ]
  },
  {
   "cell_type": "markdown",
   "metadata": {},
   "source": [
    "### Greedy and Non-greedy Matching"
   ]
  },
  {
   "cell_type": "code",
   "execution_count": 9,
   "metadata": {},
   "outputs": [
    {
     "name": "stdout",
     "output_type": "stream",
     "text": [
      "HaHaHaHaHa\n",
      "HaHaHa\n"
     ]
    }
   ],
   "source": [
    "greedyHaRegex = re.compile(r'(Ha){3,5}')\n",
    "mo1 = greedyHaRegex.search('HaHaHaHaHa')\n",
    "print(mo1.group())\n",
    "nongreedyHaRegex = re.compile(r'(Ha){3,5}?')\n",
    "mo2 = nongreedyHaRegex.search('HaHaHaHaHa')\n",
    "print(mo2.group())"
   ]
  },
  {
   "cell_type": "markdown",
   "metadata": {},
   "source": [
    "### The findall() Method\n"
   ]
  },
  {
   "cell_type": "code",
   "execution_count": 10,
   "metadata": {},
   "outputs": [
    {
     "name": "stdout",
     "output_type": "stream",
     "text": [
      "415-555-9999\n",
      "['415-555-9999', '212-555-0000']\n",
      "[('415', '555', '9999'), ('212', '555', '0000')]\n",
      "[('415-555-9999', '415', '555', '9999'), ('212-555-0000', '212', '555', '0000')]\n"
     ]
    }
   ],
   "source": [
    "phoneNumRegex = re.compile(r\"\\d\\d\\d-\\d\\d\\d-\\d\\d\\d\\d\")\n",
    "mo = phoneNumRegex.search(\"Cell: 415-555-9999 Work: 212-555-0000\")\n",
    "print(mo.group())\n",
    "print(phoneNumRegex.findall(\"Cell: 415-555-9999 Work: 212-555-0000\"))\n",
    "\n",
    "phoneNumRegex = re.compile(r'(\\d\\d\\d)-(\\d\\d\\d)-(\\d\\d\\d\\d)')\n",
    "print(phoneNumRegex.findall(\"415-555-9999 and 212-555-0000\"))\n",
    "phoneNumRegex = re.compile(r'((\\d\\d\\d)-(\\d\\d\\d)-(\\d\\d\\d\\d))')\n",
    "print(phoneNumRegex.findall(\"415-555-9999 and 212-555-0000\"))"
   ]
  },
  {
   "cell_type": "markdown",
   "metadata": {},
   "source": [
    "### Character Classes"
   ]
  },
  {
   "cell_type": "code",
   "execution_count": 11,
   "metadata": {},
   "outputs": [
    {
     "name": "stdout",
     "output_type": "stream",
     "text": [
      "['12 drummers', '11 pipers', '10 lords', '9 ladies']\n"
     ]
    }
   ],
   "source": [
    "xmasRegex = re.compile(r\"\\d+\\s\\w+\")\n",
    "print(xmasRegex.findall(\"12 drummers, 11 pipers, 10 lords, 9 ladies\"))"
   ]
  },
  {
   "cell_type": "markdown",
   "metadata": {},
   "source": [
    "### Making Your Own Character Classes"
   ]
  },
  {
   "cell_type": "code",
   "execution_count": 12,
   "metadata": {},
   "outputs": [
    {
     "name": "stdout",
     "output_type": "stream",
     "text": [
      "['o', 'o', 'o', 'e', 'a', 'a', 'o', 'o', 'A', 'O', 'O']\n",
      "['R', 'b', 'C', 'p', ' ', 't', 's', ' ', 'b', 'b', 'y', ' ', 'f', 'd', '.', ' ', 'B', 'B', 'Y', ' ', 'F', 'D', '.']\n"
     ]
    }
   ],
   "source": [
    "vowelRegex = re.compile(r\"[aeiouAEIOU]\")\n",
    "print(vowelRegex.findall(\"RoboCop eats baby food. BABY FOOD.\"))\n",
    "\n",
    "vowelRegex = re.compile(r\"[^aeiouAEIOU]\")\n",
    "print(vowelRegex.findall(\"RoboCop eats baby food. BABY FOOD.\"))"
   ]
  },
  {
   "cell_type": "markdown",
   "metadata": {},
   "source": [
    "### The Caret and Dollar Sign Characters"
   ]
  },
  {
   "cell_type": "code",
   "execution_count": 13,
   "metadata": {},
   "outputs": [
    {
     "name": "stdout",
     "output_type": "stream",
     "text": [
      "<re.Match object; span=(0, 5), match='Hello'>\n",
      "None\n"
     ]
    }
   ],
   "source": [
    "begins_regex = re.compile(r\"^Hello\")\n",
    "print(begins_regex.search(\"Hello there\"))\n",
    "print(begins_regex.search(\"he said hello\"))"
   ]
  },
  {
   "cell_type": "code",
   "execution_count": 14,
   "metadata": {},
   "outputs": [
    {
     "name": "stdout",
     "output_type": "stream",
     "text": [
      "<re.Match object; span=(12, 14), match='42'>\n",
      "None\n"
     ]
    }
   ],
   "source": [
    "endsnum = re.compile(r\"\\d+$\")\n",
    "print(endsnum.search(\"Your num is 42\"))\n",
    "print(endsnum.search(\"42 is the number\"))\n"
   ]
  },
  {
   "cell_type": "code",
   "execution_count": 15,
   "metadata": {},
   "outputs": [
    {
     "name": "stdout",
     "output_type": "stream",
     "text": [
      "<re.Match object; span=(0, 10), match='1234567890'>\n",
      "True\n",
      "True\n"
     ]
    }
   ],
   "source": [
    "wholeIsNum = re.compile(r\"^\\d+$\")\n",
    "print(wholeIsNum.search('1234567890'))\n",
    "print(wholeIsNum.search('12345xyz67890') == None)\n",
    "print(wholeIsNum.search('12 34567890') == None)"
   ]
  },
  {
   "cell_type": "markdown",
   "metadata": {},
   "source": [
    "### wildcard character"
   ]
  },
  {
   "cell_type": "code",
   "execution_count": 16,
   "metadata": {},
   "outputs": [
    {
     "data": {
      "text/plain": [
       "['cat', 'hat', 'sat', 'lat', 'mat']"
      ]
     },
     "execution_count": 16,
     "metadata": {},
     "output_type": "execute_result"
    }
   ],
   "source": [
    "atRegex = re.compile(r\".at\")\n",
    "atRegex.findall(\"The cat in the hat sat on the flat mat\")"
   ]
  },
  {
   "cell_type": "markdown",
   "metadata": {},
   "source": [
    "### Matching Everything with Dot-Star"
   ]
  },
  {
   "cell_type": "code",
   "execution_count": 17,
   "metadata": {},
   "outputs": [
    {
     "data": {
      "text/plain": [
       "'Emircan'"
      ]
     },
     "execution_count": 17,
     "metadata": {},
     "output_type": "execute_result"
    }
   ],
   "source": [
    "nameRegex = re.compile(r\"First Name: (.*) Last Name: (.*)\")\n",
    "mo = nameRegex.search(\"First Name: Emircan Last Name: Yılmaz\")\n",
    "mo.group(1)"
   ]
  },
  {
   "cell_type": "code",
   "execution_count": 18,
   "metadata": {},
   "outputs": [
    {
     "name": "stdout",
     "output_type": "stream",
     "text": [
      "<To serve man>\n",
      "<To serve man> for dinner.>\n"
     ]
    }
   ],
   "source": [
    "nongreedyRegex = re.compile(r'<.*?>')\n",
    "mo = nongreedyRegex.search('<To serve man> for dinner.>')\n",
    "print(mo.group())\n",
    "greedyRegex = re.compile(r'<.*>')\n",
    "mo = greedyRegex.search('<To serve man> for dinner.>')\n",
    "print(mo.group())\n"
   ]
  },
  {
   "cell_type": "markdown",
   "metadata": {},
   "source": [
    "### Matching Newlines with the Dot Character"
   ]
  },
  {
   "cell_type": "code",
   "execution_count": 19,
   "metadata": {},
   "outputs": [
    {
     "data": {
      "text/plain": [
       "'Serve the public trust. '"
      ]
     },
     "execution_count": 19,
     "metadata": {},
     "output_type": "execute_result"
    }
   ],
   "source": [
    "noNewLineRegex = re.compile(r\".*\")\n",
    "noNewLineRegex.search(\"Serve the public trust. \\nProtect the innocent.\").group()"
   ]
  },
  {
   "cell_type": "code",
   "execution_count": 20,
   "metadata": {},
   "outputs": [
    {
     "data": {
      "text/plain": [
       "'Serve the public trust. \\nProtect the innocent.'"
      ]
     },
     "execution_count": 20,
     "metadata": {},
     "output_type": "execute_result"
    }
   ],
   "source": [
    "newLineRegex = re.compile(r\".*\", re.DOTALL)\n",
    "newLineRegex.search(\"Serve the public trust. \\nProtect the innocent.\").group()"
   ]
  },
  {
   "cell_type": "markdown",
   "metadata": {},
   "source": [
    "### Case-Insensitive Matching"
   ]
  },
  {
   "cell_type": "code",
   "execution_count": 21,
   "metadata": {},
   "outputs": [
    {
     "data": {
      "text/plain": [
       "'Robocop'"
      ]
     },
     "execution_count": 21,
     "metadata": {},
     "output_type": "execute_result"
    }
   ],
   "source": [
    "robocop = re.compile(r\"robocop\", re.I) #re.IGNORECASE\n",
    "robocop.search(\"Robocop is part man part machine all cop\").group()"
   ]
  },
  {
   "cell_type": "code",
   "execution_count": 22,
   "metadata": {},
   "outputs": [
    {
     "data": {
      "text/plain": [
       "'ROBOCOP'"
      ]
     },
     "execution_count": 22,
     "metadata": {},
     "output_type": "execute_result"
    }
   ],
   "source": [
    "robocop.search(\"robot cop ROBOCOP\").group()"
   ]
  },
  {
   "cell_type": "markdown",
   "metadata": {},
   "source": [
    "### Substituting Strings with the sub() Metho"
   ]
  },
  {
   "cell_type": "code",
   "execution_count": 23,
   "metadata": {},
   "outputs": [
    {
     "data": {
      "text/plain": [
       "'CENSORED gave the secret documents to CENSORED.'"
      ]
     },
     "execution_count": 23,
     "metadata": {},
     "output_type": "execute_result"
    }
   ],
   "source": [
    "namesRegex = re.compile(r\"Agent \\w+\")\n",
    "namesRegex.sub(\"CENSORED\", \"Agent Alice gave the secret documents to Agent Bob.\")"
   ]
  },
  {
   "cell_type": "code",
   "execution_count": 24,
   "metadata": {},
   "outputs": [
    {
     "data": {
      "text/plain": [
       "'A**** gave the secret documents to B****.'"
      ]
     },
     "execution_count": 24,
     "metadata": {},
     "output_type": "execute_result"
    }
   ],
   "source": [
    "agentNamesRegex = re.compile(r\"Agent (\\w)\\w*\")\n",
    "# you can type \\1, \\2, \\3, and so on, to mean “Enter the text of group 1, 2, 3, and so on, in the substitution.”\n",
    "agentNamesRegex.sub(r\"\\1****\", \"Agent Alice gave the secret documents to Agent Bob.\")"
   ]
  }
 ],
 "metadata": {
  "kernelspec": {
   "display_name": "Python 3.9.5 ('base')",
   "language": "python",
   "name": "python3"
  },
  "language_info": {
   "codemirror_mode": {
    "name": "ipython",
    "version": 3
   },
   "file_extension": ".py",
   "mimetype": "text/x-python",
   "name": "python",
   "nbconvert_exporter": "python",
   "pygments_lexer": "ipython3",
   "version": "3.9.5"
  },
  "orig_nbformat": 4,
  "vscode": {
   "interpreter": {
    "hash": "4ea526ad3cd0876d9269f6e3db72440d38adf40ff047a57c74e36883b12c2e13"
   }
  }
 },
 "nbformat": 4,
 "nbformat_minor": 2
}
